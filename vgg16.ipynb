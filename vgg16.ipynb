{
 "cells": [
  {
   "cell_type": "code",
   "execution_count": null,
   "metadata": {},
   "outputs": [
    {
     "name": "stdout",
     "output_type": "stream",
     "text": [
      "Found 5778 images belonging to 5 classes.\n",
      "Found 0 images belonging to 5 classes.\n",
      "Epoch 1/10\n",
      "362/362 [==============================] - 2213s 6s/step - loss: 1.4550 - accuracy: 0.4330\n",
      "Epoch 2/10\n",
      "362/362 [==============================] - 2150s 6s/step - loss: 1.0913 - accuracy: 0.5289\n",
      "Epoch 3/10\n",
      "362/362 [==============================] - 2222s 6s/step - loss: 1.0138 - accuracy: 0.5606\n",
      "Epoch 4/10\n",
      "362/362 [==============================] - 2393s 7s/step - loss: 0.9687 - accuracy: 0.5838\n",
      "Epoch 5/10\n",
      "205/362 [===============>..............] - ETA: 19:21 - loss: 0.9043 - accuracy: 0.6115"
     ]
    }
   ],
   "source": [
    "import os\n",
    "import cv2\n",
    "import numpy as np\n",
    "from tensorflow import keras\n",
    "from keras.applications.vgg16 import VGG16\n",
    "from keras.models import Sequential\n",
    "from keras.layers import Dense, Flatten\n",
    "from keras.preprocessing.image import ImageDataGenerator\n",
    "\n",
    "# Set the path to the dataset directory\n",
    "dataset_path = \"E:/koa/0_copy/Images_pro\"\n",
    "\n",
    "# Set image dimensions\n",
    "image_width, image_height = 224, 224\n",
    "\n",
    "# Initialize data generator for preprocessing and augmentation\n",
    "datagen = ImageDataGenerator(rescale=1.0/255)\n",
    "\n",
    "# Load VGG16 base model\n",
    "base_model = VGG16(weights='imagenet', include_top=False, input_shape=(image_width, image_height, 3))\n",
    "\n",
    "# Freeze the layers in the base model\n",
    "for layer in base_model.layers:\n",
    "    layer.trainable = False\n",
    "\n",
    "# Create a new model\n",
    "model = Sequential()\n",
    "model.add(base_model)\n",
    "model.add(Flatten())\n",
    "model.add(Dense(256, activation='relu'))\n",
    "model.add(Dense(5, activation='softmax'))  # Adjust the number of classes as per your task\n",
    "\n",
    "# Compile the model\n",
    "model.compile(optimizer='adam', loss='categorical_crossentropy', metrics=['accuracy'])\n",
    "\n",
    "# Prepare the training and validation data generators\n",
    "train_generator = datagen.flow_from_directory(\n",
    "    dataset_path,\n",
    "    target_size=(image_width, image_height),\n",
    "    batch_size=16,\n",
    "    class_mode='categorical',\n",
    "    subset='training'\n",
    ")\n",
    "\n",
    "validation_generator = datagen.flow_from_directory(\n",
    "    dataset_path,\n",
    "    target_size=(image_width, image_height),\n",
    "    batch_size=16,\n",
    "    class_mode='categorical',\n",
    "    subset='validation'\n",
    ")\n",
    "\n",
    "# Train the model\n",
    "model.fit(train_generator, epochs=10, validation_data=validation_generator)\n",
    "\n",
    "# Save the model\n",
    "model.save(\"vgg16_model.h5\")\n",
    "\n",
    "# Evaluate the model\n",
    "loss, accuracy = model.evaluate(validation_generator)\n",
    "print(\"Validation Loss:\", loss) \n",
    "print(\"Validation Accuracy:\", accuracy)\n"
   ]
  },
  {
   "cell_type": "code",
   "execution_count": null,
   "metadata": {},
   "outputs": [],
   "source": []
  }
 ],
 "metadata": {
  "kernelspec": {
   "display_name": "Python 3",
   "language": "python",
   "name": "python3"
  },
  "language_info": {
   "codemirror_mode": {
    "name": "ipython",
    "version": 3
   },
   "file_extension": ".py",
   "mimetype": "text/x-python",
   "name": "python",
   "nbconvert_exporter": "python",
   "pygments_lexer": "ipython3",
   "version": "3.8.3"
  }
 },
 "nbformat": 4,
 "nbformat_minor": 4
}
