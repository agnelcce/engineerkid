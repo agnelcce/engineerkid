{
 "cells": [
  {
   "cell_type": "code",
   "execution_count": null,
   "metadata": {},
   "outputs": [
    {
     "name": "stdout",
     "output_type": "stream",
     "text": [
      "Found 1445 images belonging to 5 classes.\n",
      "Found 394 images belonging to 5 classes.\n",
      "Epoch 1/10\n"
     ]
    }
   ],
   "source": [
    "import numpy as np\n",
    "import tensorflow as tf\n",
    "from tensorflow.keras.layers import Input\n",
    "from tensorflow.keras.models import Model\n",
    "from tensorflow.keras.optimizers import Adam\n",
    "from tensorflow.keras.applications import ResNet50, VGG19, DenseNet121, DenseNet201  # Use DenseNet201\n",
    "from tensorflow.keras.preprocessing.image import ImageDataGenerator\n",
    "\n",
    "# Set random seed for reproducibility\n",
    "np.random.seed(42)\n",
    "tf.random.set_seed(42)\n",
    "\n",
    "# Data paths\n",
    "train_data_dir = 'C://Users/HP/dataset_new_processed/train_template'\n",
    "test_data_dir = 'C://Users/HP/dataset_new_processed/test_template/2'\n",
    "\n",
    "# Parameters\n",
    "input_shape = (224, 224, 3)\n",
    "num_classes = 3  # Change this to the number of classes in your dataset\n",
    "batch_size = 32\n",
    "epochs = 10\n",
    "\n",
    "# Load pre-trained models\n",
    "resnet_model = ResNet50(include_top=False, weights='imagenet', input_shape=input_shape)\n",
    "vgg_model = VGG19(include_top=False, weights='imagenet', input_shape=input_shape)\n",
    "densenet121_model = DenseNet121(include_top=False, weights='imagenet', input_shape=input_shape)\n",
    "densenet201_model = DenseNet201(include_top=False, weights='imagenet', input_shape=input_shape)  # Use DenseNet201\n",
    "\n",
    "# Fine-tune models\n",
    "for layer in resnet_model.layers:\n",
    "    layer.trainable = True\n",
    "\n",
    "for layer in vgg_model.layers:\n",
    "    layer.trainable = True\n",
    "\n",
    "for layer in densenet121_model.layers:\n",
    "    layer.trainable = True\n",
    "\n",
    "for layer in densenet201_model.layers:\n",
    "    layer.trainable = True\n",
    "\n",
    "# Create inputs for each model\n",
    "input_tensor = Input(shape=input_shape)\n",
    "resnet_output = resnet_model(input_tensor)\n",
    "vgg_output = vgg_model(input_tensor)\n",
    "densenet121_output = densenet121_model(input_tensor)\n",
    "densenet201_output = densenet201_model(input_tensor)\n",
    "\n",
    "# Concatenate the outputs of all models\n",
    "merged_output = tf.keras.layers.Concatenate()([resnet_output, vgg_output, densenet121_output, densenet201_output])\n",
    "\n",
    "# Add global average pooling and final dense layers\n",
    "x = tf.keras.layers.GlobalAveragePooling2D()(merged_output)\n",
    "x = tf.keras.layers.Dense(512, activation='relu')(x)\n",
    "x = tf.keras.layers.Dropout(0.5)(x)\n",
    "output = tf.keras.layers.Dense(num_classes, activation='softmax')(x)\n",
    "\n",
    "# Create the ensemble model\n",
    "ensemble_model = Model(inputs=input_tensor, outputs=output)\n",
    "\n",
    "# Compile the ensemble model\n",
    "ensemble_model.compile(optimizer=Adam(learning_rate=0.0001), loss='categorical_crossentropy', metrics=['accuracy'])\n",
    "\n",
    "# Data augmentation\n",
    "train_datagen = ImageDataGenerator(rescale=1.0/255, rotation_range=20, width_shift_range=0.2, height_shift_range=0.2, shear_range=0.2, zoom_range=0.2, horizontal_flip=True, fill_mode='nearest')\n",
    "test_datagen = ImageDataGenerator(rescale=1.0/255)\n",
    "\n",
    "train_generator = train_datagen.flow_from_directory(train_data_dir, target_size=input_shape[:2], batch_size=batch_size, class_mode='categorical')\n",
    "test_generator = test_datagen.flow_from_directory(test_data_dir, target_size=input_shape[:2], batch_size=batch_size, class_mode='categorical')\n",
    "\n",
    "# Train the ensemble model\n",
    "ensemble_model.fit(train_generator, epochs=epochs, validation_data=test_generator)\n",
    "\n",
    "# Evaluate the model\n",
    "test_loss, test_acc = ensemble_model.evaluate(test_generator)\n",
    "print(f'Test accuracy: {test_acc}')"
   ]
  },
  {
   "cell_type": "code",
   "execution_count": null,
   "metadata": {},
   "outputs": [],
   "source": []
  },
  {
   "cell_type": "code",
   "execution_count": null,
   "metadata": {},
   "outputs": [],
   "source": []
  },
  {
   "cell_type": "code",
   "execution_count": null,
   "metadata": {},
   "outputs": [],
   "source": []
  }
 ],
 "metadata": {
  "kernelspec": {
   "display_name": "Python 3",
   "language": "python",
   "name": "python3"
  },
  "language_info": {
   "codemirror_mode": {
    "name": "ipython",
    "version": 3
   },
   "file_extension": ".py",
   "mimetype": "text/x-python",
   "name": "python",
   "nbconvert_exporter": "python",
   "pygments_lexer": "ipython3",
   "version": "3.8.3"
  }
 },
 "nbformat": 4,
 "nbformat_minor": 4
}
