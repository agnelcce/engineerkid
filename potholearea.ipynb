{
 "cells": [
  {
   "cell_type": "code",
   "execution_count": 1,
   "metadata": {},
   "outputs": [],
   "source": [
    "import cv2\n",
    "import numpy as np\n",
    "\n",
    "# Function to calculate the area of a contour\n",
    "def calculate_area(contour):\n",
    "    return cv2.contourArea(contour)"
   ]
  },
  {
   "cell_type": "code",
   "execution_count": 2,
   "metadata": {},
   "outputs": [],
   "source": [
    "image = cv2.imread('pothh.jpg')\n",
    "image = cv2.resize(image, (300,300))\n",
    "\n",
    "# Preprocess the image (convert to grayscale)\n",
    "gray_image = cv2.cvtColor(image, cv2.COLOR_BGR2GRAY)\n",
    "#cv2.imshow('potho',gray_image)\n",
    "\n",
    "equalized_image = cv2.equalizeHist(gray_image)\n",
    "#cv2.imshow('potho2',equalized_image)\n",
    "\n",
    "d = 15   # Diameter of the pixel neighborhood used for filtering (higher values give stronger smoothing)\n",
    "sigma_color = 75  # Filter sigma in the color space\n",
    "sigma_space = 75  # Filter sigma in the coordinate space\n",
    "smoothed_image = cv2.bilateralFilter(equalized_image, d, sigma_color, sigma_space)\n",
    "#cv2.imshow('Smoothed Image (Bilateral)', smoothed_image)\n",
    "# Apply thresholding to create a binary image\n",
    "_, binary_image = cv2.threshold(smoothed_image, 100, 255, cv2.THRESH_BINARY)\n",
    "cv2.imshow('binary Image', binary_image)\n",
    "# Define a kernel for dilation\n",
    "kernel = np.ones((5,5), np.uint8)  # Adjust the kernel size based on the size of the black dots to fill\n",
    "# Perform dilation on the binary image\n",
    "filled_image = cv2.dilate(binary_image, kernel, iterations=1)\n",
    "cv2.imshow('filled Image', filled_image)\n",
    "kernl = np.ones((3,3), np.uint8) \n",
    "ero=cv2.erode(filled_image,kernl,iterations=1)\n",
    "cv2.imshow('eroded Image', ero)\n",
    "cv2.waitKey(0)\n",
    "cv2.destroyAllWindows()"
   ]
  },
  {
   "cell_type": "code",
   "execution_count": null,
   "metadata": {},
   "outputs": [],
   "source": [
    "\n",
    "# Apply thresholding to create a binary image\n",
    "_, binary_image = cv2.threshold(equalized_image, 100, 255, cv2.THRESH_BINARY)\n",
    "cv2.imshow('binary Image', binary_image)\n",
    "cv2.waitKey(0)\n",
    "cv2.destroyAllWindows()\n",
    "# Find contours in the binary image\n",
    "#contours, _ = cv2.findContours(binary_image, cv2.RETR_EXTERNAL, cv2.CHAIN_APPROX_SIMPLE)"
   ]
  },
  {
   "cell_type": "code",
   "execution_count": 8,
   "metadata": {},
   "outputs": [],
   "source": [
    "# Calculate the area of each contour (pothole)\n",
    "pothole_areas = [calculate_area(contour) for contour in contours]\n",
    "\n",
    "# Calculate the total pothole area\n",
    "total_pothole_area = sum(pothole_areas)\n",
    "\n",
    "# Display the results on the original image\n",
    "for i, contour in enumerate(contours):\n",
    "    cv2.drawContours(image, [contour], -1, (0, 255, 0), 2)  # Draw contours as green lines\n",
    "    cv2.putText(image, f\"Area: {pothole_areas[i]:.2f}\", (contour[0][0][0], contour[0][0][1]),\n",
    "                cv2.FONT_HERSHEY_SIMPLEX, 0.5, (0, 0, 255), 2)  # Put area as text near the contour\n",
    "\n",
    "cv2.putText(image, f\"Total Pothole Area: {total_pothole_area:.2f}\", (10, 30),\n",
    "            cv2.FONT_HERSHEY_SIMPLEX, 1, (0, 0, 255), 2)  # Put total pothole area as text on the image\n",
    "\n",
    "# Display the image with potholes and their areas\n",
    "cv2.imshow('Pothole Detection', image)\n",
    "cv2.waitKey(0)\n",
    "cv2.destroyAllWindows()"
   ]
  },
  {
   "cell_type": "code",
   "execution_count": null,
   "metadata": {},
   "outputs": [],
   "source": []
  },
  {
   "cell_type": "code",
   "execution_count": null,
   "metadata": {},
   "outputs": [],
   "source": []
  }
 ],
 "metadata": {
  "kernelspec": {
   "display_name": "Python 3",
   "language": "python",
   "name": "python3"
  },
  "language_info": {
   "codemirror_mode": {
    "name": "ipython",
    "version": 3
   },
   "file_extension": ".py",
   "mimetype": "text/x-python",
   "name": "python",
   "nbconvert_exporter": "python",
   "pygments_lexer": "ipython3",
   "version": "3.8.3"
  }
 },
 "nbformat": 4,
 "nbformat_minor": 4
}
