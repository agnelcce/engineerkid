{
 "cells": [
  {
   "cell_type": "code",
   "execution_count": null,
   "metadata": {},
   "outputs": [],
   "source": [
    "import cv2\n",
    "import numpy as np\n",
    "from skimage.restoration import denoise_tv_chambolle\n",
    "import pywt\n",
    "\n",
    "# Load the knee X-ray image\n",
    "image = cv2.imread('C:/Users/HP/dataset_new_processed/test_template/1/0Normal/Normal0.png')\n",
    "\n",
    "# Convert the image to grayscale\n",
    "gray = cv2.cvtColor(image, cv2.COLOR_BGR2GRAY)\n",
    "\n",
    "\n",
    "#4 Define the joint bilateral filter parameters\n",
    "d = 15  # Diameter of each pixel neighborhood\n",
    "sigmaColor = 75  # Standard deviation of color space\n",
    "sigmaSpace = 75  # Standard deviation of coordinate space\n",
    "\n",
    "# Apply joint bilateral filter for image smoothing\n",
    "smoothed = cv2.ximgproc.jointBilateralFilter(image, gray, d, sigmaColor, sigmaSpace)\n",
    "\n",
    "\n",
    "\n",
    "# Apply adaptive thresholding to create a binary image\n",
    "_, threshold = cv2.threshold(smoothed, 0,255, cv2.THRESH_BINARY_INV + cv2.THRESH_OTSU)\n",
    "\n",
    "# Perform morphological operations to enhance the regions\n",
    "kernel = np.ones((5,5), np.uint8)\n",
    "closing = cv2.morphologyEx(threshold, cv2.MORPH_CLOSE, kernel, iterations=1)\n",
    "\n",
    "edges = cv2.Canny(closing, 0,255)\n",
    "\n",
    "#cv2.imshow('Original Image', image)\n",
    "#cv2.imshow('gray',gray)\n",
    "#cv2.imshow('Image smoothed',smoothed)\n",
    "#cv2.imshow('threshold',threshold)\n",
    "#cv2.imshow('dilated',closing)\n",
    "cv2.imshow('edges',edges)\n",
    "cv2.waitKey(0)\n",
    "cv2.destroyAllWindows()\n"
   ]
  },
  {
   "cell_type": "code",
   "execution_count": 37,
   "metadata": {},
   "outputs": [],
   "source": []
  },
  {
   "cell_type": "code",
   "execution_count": null,
   "metadata": {},
   "outputs": [],
   "source": []
  }
 ],
 "metadata": {
  "kernelspec": {
   "display_name": "Python 3",
   "language": "python",
   "name": "python3"
  },
  "language_info": {
   "codemirror_mode": {
    "name": "ipython",
    "version": 3
   },
   "file_extension": ".py",
   "mimetype": "text/x-python",
   "name": "python",
   "nbconvert_exporter": "python",
   "pygments_lexer": "ipython3",
   "version": "3.8.3"
  }
 },
 "nbformat": 4,
 "nbformat_minor": 4
}
