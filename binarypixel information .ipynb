{
 "cells": [
  {
   "cell_type": "code",
   "execution_count": 1,
   "metadata": {},
   "outputs": [
    {
     "ename": "FileNotFoundError",
     "evalue": "[WinError 3] The system cannot find the path specified: 'C:/Users/HP/dataset_train/test_template/1/4Severe'",
     "output_type": "error",
     "traceback": [
      "\u001b[1;31m---------------------------------------------------------------------------\u001b[0m",
      "\u001b[1;31mFileNotFoundError\u001b[0m                         Traceback (most recent call last)",
      "\u001b[1;32m<ipython-input-1-b8ac1005eea8>\u001b[0m in \u001b[0;36m<module>\u001b[1;34m\u001b[0m\n\u001b[0;32m     13\u001b[0m \u001b[1;33m\u001b[0m\u001b[0m\n\u001b[0;32m     14\u001b[0m \u001b[1;31m# Process each image in the input folder\u001b[0m\u001b[1;33m\u001b[0m\u001b[1;33m\u001b[0m\u001b[1;33m\u001b[0m\u001b[0m\n\u001b[1;32m---> 15\u001b[1;33m \u001b[1;32mfor\u001b[0m \u001b[0mfilename\u001b[0m \u001b[1;32min\u001b[0m \u001b[0mos\u001b[0m\u001b[1;33m.\u001b[0m\u001b[0mlistdir\u001b[0m\u001b[1;33m(\u001b[0m\u001b[0minput_folder\u001b[0m\u001b[1;33m)\u001b[0m\u001b[1;33m:\u001b[0m\u001b[1;33m\u001b[0m\u001b[1;33m\u001b[0m\u001b[0m\n\u001b[0m\u001b[0;32m     16\u001b[0m     \u001b[1;31m# Read the image\u001b[0m\u001b[1;33m\u001b[0m\u001b[1;33m\u001b[0m\u001b[1;33m\u001b[0m\u001b[0m\n\u001b[0;32m     17\u001b[0m     \u001b[0mimage_path\u001b[0m \u001b[1;33m=\u001b[0m \u001b[0mos\u001b[0m\u001b[1;33m.\u001b[0m\u001b[0mpath\u001b[0m\u001b[1;33m.\u001b[0m\u001b[0mjoin\u001b[0m\u001b[1;33m(\u001b[0m\u001b[0minput_folder\u001b[0m\u001b[1;33m,\u001b[0m \u001b[0mfilename\u001b[0m\u001b[1;33m)\u001b[0m\u001b[1;33m\u001b[0m\u001b[1;33m\u001b[0m\u001b[0m\n",
      "\u001b[1;31mFileNotFoundError\u001b[0m: [WinError 3] The system cannot find the path specified: 'C:/Users/HP/dataset_train/test_template/1/4Severe'"
     ]
    }
   ],
   "source": []
  },
  {
   "cell_type": "code",
   "execution_count": null,
   "metadata": {},
   "outputs": [],
   "source": [
    "import cv2\n",
    "import numpy as np\n",
    "import matplotlib.pyplot as plt\n",
    "\n",
    "# Load the X-ray image\n",
    "image_path = \"C:/Users/HP/dataset_train/test_template/1/histeq_00.png\"  # Replace with the actual path to your image\n",
    "image = cv2.imread(image_path, 0)  # Read as grayscale\n",
    "\n",
    "# Apply adaptive thresholding to segment the bone region\n",
    "_, thresholded = cv2.threshold(image, 0, 255, cv2.THRESH_BINARY + cv2.THRESH_OTSU)\n",
    "\n",
    "# Perform morphological closing to fill small gaps in the bone region\n",
    "kernel = cv2.getStructuringElement(cv2.MORPH_ELLIPSE, (5, 5))\n",
    "closed = cv2.morphologyEx(thresholded, cv2.MORPH_CLOSE, kernel)\n",
    "\n",
    "# Find contours of the bone region\n",
    "contours, _ = cv2.findContours(closed, cv2.RETR_EXTERNAL, cv2.CHAIN_APPROX_SIMPLE)\n",
    "\n",
    "# Create a mask to fill the bone region\n",
    "mask = np.zeros_like(image)\n",
    "\n",
    "# Fill the bone region with white\n",
    "cv2.drawContours(mask, contours, -1, 255, thickness=cv2.FILLED)\n",
    "\n",
    "# Apply the mask to the original image\n",
    "result = cv2.bitwise_and(image, mask)\n",
    "\n",
    "# Display the result\n",
    "plt.imshow(result, cmap='gray')\n",
    "plt.axis('off')\n",
    "plt.show()"
   ]
  },
  {
   "cell_type": "code",
   "execution_count": null,
   "metadata": {},
   "outputs": [],
   "source": [
    "import cv2\n",
    "import os\n",
    "\n",
    "# Input and output folder paths\n",
    "input_folder = \"C:/Users/HP/dataset_train/test_template/1\"  # Replace with the path to the input folder containing the images\n",
    "output_folder = \"C:/Users/HP/dataset_train/test_template/1\"  # Replace with the path to the output folder to store the result images\n",
    "\n",
    "# Create the output folder if it doesn't exist\n",
    "if not os.path.exists(output_folder):\n",
    "    os.makedirs(output_folder)\n",
    "\n",
    "# Process each image in the input folder\n",
    "for filename in os.listdir(input_folder):\n",
    "    # Read the image\n",
    "    image_path = os.path.join(input_folder, filename)\n",
    "    image = cv2.imread(image_path, 0)  # Read as grayscale\n",
    "\n",
    "    # Apply adaptive thresholding to segment the bone region\n",
    "    _, thresholded = cv2.threshold(image, 0, 255, cv2.THRESH_BINARY + cv2.THRESH_OTSU)\n",
    "\n",
    "    # Perform morphological closing to fill small gaps in the bone region\n",
    "    kernel = cv2.getStructuringElement(cv2.MORPH_ELLIPSE, (5, 5))\n",
    "    closed = cv2.morphologyEx(thresholded, cv2.MORPH_CLOSE, kernel)\n",
    "\n",
    "    # Find contours of the bone region\n",
    "    contours, _ = cv2.findContours(closed, cv2.RETR_EXTERNAL, cv2.CHAIN_APPROX_SIMPLE)\n",
    "\n",
    "    # Create a mask to fill the bone region\n",
    "    mask = np.zeros_like(image)\n",
    "\n",
    "    # Fill the bone region with white\n",
    "    cv2.drawContours(mask, contours, -1, 255, thickness=cv2.FILLED)\n",
    "\n",
    "    # Apply the mask to the original image\n",
    "    result = cv2.bitwise_and(image, mask)\n",
    "\n",
    "    # Save the result image to the output folder\n",
    "    output_path = os.path.join(output_folder, filename)\n",
    "    cv2.imwrite(output_path, result)\n",
    "\n",
    "    print(f\"Processed image: {filename}\")\n",
    "\n",
    "print(\"Image processing complete.\")"
   ]
  },
  {
   "cell_type": "code",
   "execution_count": null,
   "metadata": {},
   "outputs": [],
   "source": []
  }
 ],
 "metadata": {
  "kernelspec": {
   "display_name": "Python 3",
   "language": "python",
   "name": "python3"
  },
  "language_info": {
   "codemirror_mode": {
    "name": "ipython",
    "version": 3
   },
   "file_extension": ".py",
   "mimetype": "text/x-python",
   "name": "python",
   "nbconvert_exporter": "python",
   "pygments_lexer": "ipython3",
   "version": "3.8.3"
  }
 },
 "nbformat": 4,
 "nbformat_minor": 4
}
