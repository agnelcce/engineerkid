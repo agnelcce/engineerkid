{
 "cells": [
  {
   "cell_type": "code",
   "execution_count": 4,
   "metadata": {},
   "outputs": [],
   "source": [
    "import os\n",
    "import numpy as np\n",
    "from skimage import io, transform\n",
    "from sklearn.model_selection import train_test_split\n",
    "from sklearn.preprocessing import StandardScaler\n",
    "from sklearn.linear_model import LogisticRegression\n",
    "from sklearn.metrics import accuracy_score\n",
    "import joblib"
   ]
  },
  {
   "cell_type": "code",
   "execution_count": 5,
   "metadata": {},
   "outputs": [],
   "source": [
    "dataset_dir = 'C:/Users/HP/test/Desktop/logdata1'\n",
    "image_height = 256\n",
    "image_width = 256"
   ]
  },
  {
   "cell_type": "code",
   "execution_count": 6,
   "metadata": {},
   "outputs": [
    {
     "name": "stdout",
     "output_type": "stream",
     "text": [
      "Accuracy: 0.6420454545454546\n"
     ]
    },
    {
     "data": {
      "text/plain": [
       "['trained_model1.pkl']"
      ]
     },
     "execution_count": 6,
     "metadata": {},
     "output_type": "execute_result"
    }
   ],
   "source": [
    "# Function to preprocess images\n",
    "def preprocess_image(image_path):\n",
    "    image = io.imread(image_path, as_gray=True)\n",
    "    image_resized = transform.resize(image, (image_height, image_width))\n",
    "    return image_resized.flatten()\n",
    "\n",
    "# Load and preprocess images from the dataset\n",
    "data = []\n",
    "labels = []\n",
    "\n",
    "for class_name in ['normal', 'osteoarthriticDO']:\n",
    "    class_dir = os.path.join(dataset_dir, class_name)\n",
    "    for image_name in os.listdir(class_dir):\n",
    "        image_path = os.path.join(class_dir, image_name)\n",
    "        features = preprocess_image(image_path)\n",
    "        data.append(features)\n",
    "        labels.append(1 if class_name == 'osteoarthriticDO' else 0)\n",
    "\n",
    "# Convert data and labels to NumPy arrays\n",
    "data = np.array(data)\n",
    "labels = np.array(labels)\n",
    "\n",
    "# Split data into training and testing sets\n",
    "X_train, X_test, y_train, y_test = train_test_split(data, labels, test_size=0.2, random_state=42)\n",
    "\n",
    "# Standardize features (mean=0, variance=1)\n",
    "scaler = StandardScaler()\n",
    "X_train_scaled = scaler.fit_transform(X_train)\n",
    "X_test_scaled = scaler.transform(X_test)\n",
    "\n",
    "# Initialize Logistic Regression model\n",
    "model = LogisticRegression(max_iter=1000)\n",
    "\n",
    "# Train the model\n",
    "model.fit(X_train_scaled, y_train)\n",
    "\n",
    "# Predict on the test set\n",
    "y_pred = model.predict(X_test_scaled)\n",
    "\n",
    "# Calculate accuracy\n",
    "accuracy = accuracy_score(y_test, y_pred)\n",
    "print(\"Accuracy:\", accuracy)\n",
    "\n",
    "# Save the trained model\n",
    "joblib.dump(model, 'trained_model1.pkl')"
   ]
  },
  {
   "cell_type": "code",
   "execution_count": 7,
   "metadata": {},
   "outputs": [
    {
     "name": "stdout",
     "output_type": "stream",
     "text": [
      "Model location: C:\\Users\\HP\\trained_model1.pkl\n"
     ]
    }
   ],
   "source": [
    "import os\n",
    "\n",
    "# Get the absolute path of the current working directory\n",
    "current_dir = os.getcwd()\n",
    "\n",
    "# Specify the model filename\n",
    "model_filename = 'trained_model1.pkl'\n",
    "\n",
    "# Construct the complete path to the model file\n",
    "model_path = os.path.join(current_dir, model_filename)\n",
    "\n",
    "print(\"Model location:\", model_path)"
   ]
  },
  {
   "cell_type": "code",
   "execution_count": 8,
   "metadata": {},
   "outputs": [
    {
     "name": "stdout",
     "output_type": "stream",
     "text": [
      "Accuracy: 64.20454545454545\n",
      "Sensitivity: 61.038961038961034\n",
      "Specificity: 66.66666666666666\n",
      "Precision: 58.75\n",
      "AUC: 0.6385281385281387\n",
      "F1 Score: 0.5987261146496815\n"
     ]
    }
   ],
   "source": [
    "from sklearn.metrics import accuracy_score, confusion_matrix, classification_report, roc_auc_score, f1_score\n",
    "\n",
    "\n",
    "\n",
    "# Calculate accuracy\n",
    "accuracy = accuracy_score(y_test, y_pred) * 100\n",
    "\n",
    "# Calculate confusion matrix\n",
    "conf_matrix = confusion_matrix(y_test, y_pred)\n",
    "\n",
    "# Calculate sensitivity (true positive rate)\n",
    "sensitivity = (conf_matrix[1, 1] / (conf_matrix[1, 1] + conf_matrix[1, 0])) * 100\n",
    "\n",
    "# Calculate specificity (true negative rate)\n",
    "specificity = (conf_matrix[0, 0] / (conf_matrix[0, 0] + conf_matrix[0, 1])) * 100\n",
    "\n",
    "# Calculate precision (positive predictive value)\n",
    "precision = (conf_matrix[1, 1] / (conf_matrix[1, 1] + conf_matrix[0, 1])) * 100\n",
    "\n",
    "# Calculate AUC (Area Under the ROC Curve)\n",
    "roc_auc = roc_auc_score(y_test, y_pred)\n",
    "\n",
    "# Calculate F1 score\n",
    "f1 = f1_score(y_test, y_pred)\n",
    "\n",
    "print(\"Accuracy:\", accuracy)\n",
    "print(\"Sensitivity:\", sensitivity)\n",
    "print(\"Specificity:\", specificity)\n",
    "print(\"Precision:\", precision)\n",
    "print(\"AUC:\", roc_auc)\n",
    "print(\"F1 Score:\", f1)"
   ]
  },
  {
   "cell_type": "code",
   "execution_count": null,
   "metadata": {},
   "outputs": [],
   "source": []
  }
 ],
 "metadata": {
  "kernelspec": {
   "display_name": "Python 3",
   "language": "python",
   "name": "python3"
  },
  "language_info": {
   "codemirror_mode": {
    "name": "ipython",
    "version": 3
   },
   "file_extension": ".py",
   "mimetype": "text/x-python",
   "name": "python",
   "nbconvert_exporter": "python",
   "pygments_lexer": "ipython3",
   "version": "3.8.3"
  }
 },
 "nbformat": 4,
 "nbformat_minor": 4
}
