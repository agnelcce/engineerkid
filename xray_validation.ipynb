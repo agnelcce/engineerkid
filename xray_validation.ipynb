{
 "cells": [
  {
   "cell_type": "code",
   "execution_count": 2,
   "metadata": {},
   "outputs": [],
   "source": [
    "import numpy as np \n",
    "import pandas as pd \n",
    "import matplotlib.pyplot as plt \n",
    "import seaborn as sns\n",
    "\n",
    "from sklearn.metrics import confusion_matrix \n",
    "import tensorflow as tf"
   ]
  },
  {
   "cell_type": "code",
   "execution_count": 3,
   "metadata": {},
   "outputs": [],
   "source": [
    "train_dir='C:/Users/HP/dataset_train/Train_set'\n",
    "test_dir='C:/Users/HP/dataset_test/Test_data'\n",
    "val_dir='C:/Users/HP/dataset_val/dataset_val/val_data'"
   ]
  },
  {
   "cell_type": "code",
   "execution_count": 4,
   "metadata": {},
   "outputs": [],
   "source": [
    "IMG_HEIGHT=224\n",
    "IMG_WIDTH=224\n",
    "BATCHSIZE=32\n"
   ]
  },
  {
   "cell_type": "code",
   "execution_count": 5,
   "metadata": {},
   "outputs": [],
   "source": [
    "train_datagen=tf.keras.preprocessing.image.ImageDataGenerator( \n",
    "    rescale=1.0/255,\n",
    "    rotation_range=20,\n",
    "    brightness_range=(1.2,1.5),\n",
    "    horizontal_flip=True)\n",
    "test_datagen=tf.keras.preprocessing.image.ImageDataGenerator( rescale=1.0/255)\n",
    "val_datagen=tf.keras.preprocessing.image.ImageDataGenerator( rescale=1.0/255)"
   ]
  },
  {
   "cell_type": "code",
   "execution_count": 6,
   "metadata": {},
   "outputs": [
    {
     "name": "stdout",
     "output_type": "stream",
     "text": [
      "Found 1445 images belonging to 5 classes.\n",
      "Found 442 images belonging to 5 classes.\n",
      "Found 442 images belonging to 5 classes.\n"
     ]
    }
   ],
   "source": [
    "train_data=train_datagen.flow_from_directory(\n",
    "    train_dir,\n",
    "    target_size=(IMG_HEIGHT,IMG_WIDTH),\n",
    "    class_mode='binary',\n",
    "    batch_size=BATCHSIZE)\n",
    "\n",
    "test_data=test_datagen.flow_from_directory(\n",
    "    test_dir,\n",
    "    target_size=(IMG_HEIGHT,IMG_WIDTH),\n",
    "    class_mode='binary',\n",
    "    batch_size=BATCHSIZE)\n",
    "\n",
    "val_data=val_datagen.flow_from_directory(\n",
    "    val_dir,\n",
    "    target_size=(IMG_HEIGHT,IMG_WIDTH),\n",
    "    class_mode='binary',\n",
    "batch_size=BATCHSIZE)"
   ]
  },
  {
   "cell_type": "code",
   "execution_count": 7,
   "metadata": {},
   "outputs": [],
   "source": [
    "mobilenet=tf.keras.applications.MobileNetV2(\n",
    "input_shape=(IMG_HEIGHT,IMG_WIDTH,3),\n",
    "include_top=False,\n",
    "weights='imagenet',\n",
    "pooling='avg')\n",
    "mobilenet.trainable=False"
   ]
  },
  {
   "cell_type": "code",
   "execution_count": 8,
   "metadata": {},
   "outputs": [
    {
     "name": "stdout",
     "output_type": "stream",
     "text": [
      "Model: \"model\"\n",
      "_________________________________________________________________\n",
      " Layer (type)                Output Shape              Param #   \n",
      "=================================================================\n",
      " input_2 (InputLayer)        [(None, 224, 224, 3)]     0         \n",
      "                                                                 \n",
      " mobilenetv2_1.00_224 (Funct  (None, 1280)             2257984   \n",
      " ional)                                                          \n",
      "                                                                 \n",
      " dense (Dense)               (None, 1024)              1311744   \n",
      "                                                                 \n",
      " dense_1 (Dense)             (None, 1)                 1025      \n",
      "                                                                 \n",
      "=================================================================\n",
      "Total params: 3,570,753\n",
      "Trainable params: 1,312,769\n",
      "Non-trainable params: 2,257,984\n",
      "_________________________________________________________________\n",
      "None\n"
     ]
    }
   ],
   "source": [
    "\n",
    "inputs=tf.keras.Input(shape=(IMG_HEIGHT,IMG_WIDTH,3))\n",
    "pretrained_model=mobilenet(inputs,training=False)\n",
    "dense=tf.keras.layers.Dense(1024,activation='relu')(pretrained_model)\n",
    "outputs=tf.keras.layers.Dense(1,activation='sigmoid')(dense)\n",
    "\n",
    "model=tf.keras.Model(inputs,outputs)\n",
    "print(model.summary())"
   ]
  },
  {
   "cell_type": "code",
   "execution_count": null,
   "metadata": {
    "scrolled": true
   },
   "outputs": [
    {
     "name": "stdout",
     "output_type": "stream",
     "text": [
      "Epoch 1/50\n",
      "46/46 [==============================] - 104s 2s/step - loss: -174.8008 - accuracy: 0.2893 - auc: 0.4952 - val_loss: -384.7964 - val_accuracy: 0.4548 - val_auc: 0.5000\n",
      "Epoch 2/50\n",
      "46/46 [==============================] - 98s 2s/step - loss: -1006.0706 - accuracy: 0.2941 - auc: 0.5000 - val_loss: -1454.5215 - val_accuracy: 0.4548 - val_auc: 0.5000\n",
      "Epoch 3/50\n",
      "46/46 [==============================] - 97s 2s/step - loss: -2747.1987 - accuracy: 0.2941 - auc: 0.5000 - val_loss: -3201.6221 - val_accuracy: 0.4548 - val_auc: 0.5000\n",
      "Epoch 4/50\n",
      "46/46 [==============================] - 96s 2s/step - loss: -5536.6138 - accuracy: 0.2941 - auc: 0.5000 - val_loss: -5960.7974 - val_accuracy: 0.4548 - val_auc: 0.5000\n",
      "Epoch 5/50\n",
      "46/46 [==============================] - 96s 2s/step - loss: -9641.5098 - accuracy: 0.2941 - auc: 0.5000 - val_loss: -9810.4453 - val_accuracy: 0.4548 - val_auc: 0.5000\n",
      "Epoch 6/50\n",
      "46/46 [==============================] - 97s 2s/step - loss: -14704.0859 - accuracy: 0.2941 - auc: 0.5000 - val_loss: -14490.9736 - val_accuracy: 0.4548 - val_auc: 0.5000\n",
      "Epoch 7/50\n",
      "38/46 [=======================>......] - ETA: 12s - loss: -21138.2441 - accuracy: 0.2826 - auc: 0.5000"
     ]
    }
   ],
   "source": [
    "EPOCHS=50\n",
    "model.compile(\n",
    "    optimizer='adam',\n",
    "    loss='binary_crossentropy',\n",
    "    metrics=['accuracy',tf.keras.metrics.AUC(name='auc')\n",
    "            ]\n",
    ")\n",
    "\n",
    "history=model.fit(\n",
    "train_data,\n",
    "validation_data=val_data,\n",
    "batch_size=BATCHSIZE,\n",
    "epochs=EPOCHS,\n",
    "callbacks=[tf.keras.callbacks.EarlyStopping(\n",
    "monitor='val_loss',\n",
    "patience=3,\n",
    "restore_best_weights=True)\n",
    "          ]\n",
    ")"
   ]
  },
  {
   "cell_type": "code",
   "execution_count": null,
   "metadata": {},
   "outputs": [],
   "source": [
    "true_labels=test_data.labels\n",
    "predict_labels=np.squeeze(np.array(model.predict(test_data) >=.5,dtype=np.int))\n",
    "cm=confusion_matrix(true_labels,predict_labels)\n"
   ]
  },
  {
   "cell_type": "code",
   "execution_count": null,
   "metadata": {},
   "outputs": [],
   "source": [
    "plt.figure(figsize=(6,5))\n",
    "sns.heatmap(cm, annot=True,fmt='g', vmin=0, cmap='mako',cbar=False)\n",
    "plt.xlabel('Predicted')\n",
    "plt.ylabel('Actual')\n",
    "plt.xticks(np.arange(5)*.5,['Normal','Doubtful','Mild','Moderate','Severe'],fontsize = 16)\n",
    "plt.yticks(np.arange(5)*.5,['Normal','Doubtful','Mild','Moderate','Severe'],fontsize = 16)\n",
    "plt.show()"
   ]
  },
  {
   "cell_type": "code",
   "execution_count": null,
   "metadata": {},
   "outputs": [],
   "source": [
    "results = model.evaluate(test_data,verbose=0)\n",
    "\n",
    "accuracy=results[1]\n",
    "auc=results[2]\n",
    "\n",
    "tn,fp,fn,tp=cm.ravel()\n",
    "precision = tp/(tp+fp)\n",
    "recall=tp/(tp+fn)\n",
    "\n",
    "print(\"Accuracy:(.2f)\",format(accuracy))\n",
    "print(\"Auc:(.2f)\",format(auc))\n",
    "print(\"Precision:(.2f)\",format(precision))\n",
    "print(\"Recall:(.2f)\",format(recall))"
   ]
  },
  {
   "cell_type": "code",
   "execution_count": null,
   "metadata": {},
   "outputs": [],
   "source": [
    "    "
   ]
  }
 ],
 "metadata": {
  "kernelspec": {
   "display_name": "Python 3",
   "language": "python",
   "name": "python3"
  },
  "language_info": {
   "codemirror_mode": {
    "name": "ipython",
    "version": 3
   },
   "file_extension": ".py",
   "mimetype": "text/x-python",
   "name": "python",
   "nbconvert_exporter": "python",
   "pygments_lexer": "ipython3",
   "version": "3.8.3"
  }
 },
 "nbformat": 4,
 "nbformat_minor": 4
}
