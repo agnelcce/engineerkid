{
 "cells": [
  {
   "cell_type": "code",
   "execution_count": 11,
   "metadata": {},
   "outputs": [
    {
     "name": "stdout",
     "output_type": "stream",
     "text": [
      "Contrast: 113.05168504901964\n",
      "Dissimilarity: 6.050857843137257\n",
      "Homogeneity: 0.3118952242361156\n",
      "Energy: 0.07865534274972225\n",
      "Correlation: 0.990839412552849\n"
     ]
    }
   ],
   "source": [
    "import numpy as np\n",
    "from skimage import io, color, feature\n",
    "\n",
    "# Load the X-ray image (make sure to replace 'image_path' with the actual file path)\n",
    "image_path = 'histeq_40.png'\n",
    "image = io.imread(image_path, as_gray=True)\n",
    "\n",
    "# Compute the GLCM matrix\n",
    "glcm = feature.greycomatrix(image, distances=[1], angles=[0], levels=256, symmetric=True, normed=True)\n",
    "\n",
    "# Calculate texture features from the GLCM matrix\n",
    "contrast = feature.greycoprops(glcm, prop='contrast')[0, 0]\n",
    "dissimilarity = feature.greycoprops(glcm, prop='dissimilarity')[0, 0]\n",
    "homogeneity = feature.greycoprops(glcm, prop='homogeneity')[0, 0]\n",
    "energy = feature.greycoprops(glcm, prop='energy')[0, 0]\n",
    "correlation = feature.greycoprops(glcm, prop='correlation')[0, 0]\n",
    "\n",
    "# Print the calculated texture features\n",
    "print(f\"Contrast: {contrast}\")\n",
    "print(f\"Dissimilarity: {dissimilarity}\")\n",
    "print(f\"Homogeneity: {homogeneity}\")\n",
    "print(f\"Energy: {energy}\")\n",
    "print(f\"Correlation: {correlation}\")"
   ]
  },
  {
   "cell_type": "code",
   "execution_count": null,
   "metadata": {},
   "outputs": [],
   "source": []
  }
 ],
 "metadata": {
  "kernelspec": {
   "display_name": "Python 3",
   "language": "python",
   "name": "python3"
  },
  "language_info": {
   "codemirror_mode": {
    "name": "ipython",
    "version": 3
   },
   "file_extension": ".py",
   "mimetype": "text/x-python",
   "name": "python",
   "nbconvert_exporter": "python",
   "pygments_lexer": "ipython3",
   "version": "3.8.3"
  }
 },
 "nbformat": 4,
 "nbformat_minor": 4
}
