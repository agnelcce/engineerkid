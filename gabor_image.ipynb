{
 "cells": [
  {
   "cell_type": "code",
   "execution_count": 61,
   "metadata": {},
   "outputs": [
    {
     "name": "stdout",
     "output_type": "stream",
     "text": [
      "   orginal image  Gabor1  Gabor2  Gabor3  Gabor4  Gabor5  Gabor6  Gabor7  \\\n",
      "0            100       0       0       0       0       0       0     105   \n",
      "1            105       0       0       0       0       0       0     148   \n",
      "2            105       0       0       0       0       0       0     120   \n",
      "3            101       0       0       0       0       0       0     125   \n",
      "4            105       0       0       0       0       0       0     132   \n",
      "\n",
      "   Gabor8  Gabor9  ...  Gabor23  Gabor24  Gabor25  Gabor26  Gabor27  Gabor28  \\\n",
      "0     102       0  ...      120      108        0        0      255      255   \n",
      "1     144       0  ...      119      107        0        0      255      255   \n",
      "2     117       0  ...      117      105        0        0      255      255   \n",
      "3     121       0  ...      112      100        0        0      255      255   \n",
      "4     129       0  ...      118      105        0        0      255      255   \n",
      "\n",
      "   Gabor29  Gabor30  Gabor31  Gabor32  \n",
      "0       42       39      141      137  \n",
      "1       58       54      140      135  \n",
      "2       51       48      138      133  \n",
      "3       53       49      132      128  \n",
      "4       55       52      139      134  \n",
      "\n",
      "[5 rows x 33 columns]\n"
     ]
    }
   ],
   "source": [
    "import numpy as np \n",
    "import cv2\n",
    "import pandas as pd\n",
    "import matplotlib.pyplot as plt\n",
    "\n",
    "im=cv2.imread('TESTKNEE/0/9003175_1.png')\n",
    "im=cv2.cvtColor(im,cv2.COLOR_BGR2GRAY)\n",
    "df=pd.DataFrame()\n",
    "#original pixel values to dataframe as feature #1\n",
    "im2=im.reshape(-1)\n",
    "df['orginal image']= im2\n",
    "#print(df.head)\n",
    "# gabor features \n",
    "num=1\n",
    "for theta in range(2):\n",
    "    theta=theta/4.*np.pi\n",
    "    for sigma in (3,5):\n",
    "        for lamda in np.arange(0,np.pi,np.pi/4.):\n",
    "            for gamma in (0.05,0.5):\n",
    "                gabor_label='Gabor'+str(num)\n",
    "                kernel = cv2.getGaborKernel((5,5),sigma,theta,lamda,gamma,0,ktype=cv2.CV_32F)\n",
    "                fimg=cv2.filter2D(im,cv2.CV_8UC2,kernel)\n",
    "                filtered_img=fimg.reshape(-1)\n",
    "                df[gabor_label]=filtered_img\n",
    "                num+=1\n",
    "print(df.head())\n",
    "df.to_csv('Gabor.csv')\n",
    "\n"
   ]
  },
  {
   "cell_type": "code",
   "execution_count": null,
   "metadata": {},
   "outputs": [],
   "source": []
  },
  {
   "cell_type": "code",
   "execution_count": null,
   "metadata": {},
   "outputs": [],
   "source": []
  }
 ],
 "metadata": {
  "kernelspec": {
   "display_name": "Python 3",
   "language": "python",
   "name": "python3"
  },
  "language_info": {
   "codemirror_mode": {
    "name": "ipython",
    "version": 3
   },
   "file_extension": ".py",
   "mimetype": "text/x-python",
   "name": "python",
   "nbconvert_exporter": "python",
   "pygments_lexer": "ipython3",
   "version": "3.8.3"
  }
 },
 "nbformat": 4,
 "nbformat_minor": 4
}
