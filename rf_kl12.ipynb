{
 "cells": [
  {
   "cell_type": "code",
   "execution_count": 1,
   "metadata": {},
   "outputs": [
    {
     "name": "stdout",
     "output_type": "stream",
     "text": [
      "Accuracy: 0.8515625\n",
      "Confusion Matrix:\n",
      "[[99  3]\n",
      " [16 10]]\n",
      "Classification Report:\n",
      "                precision    recall  f1-score   support\n",
      "\n",
      "        Normal       0.86      0.97      0.91       102\n",
      "Osteoarthritic       0.77      0.38      0.51        26\n",
      "\n",
      "      accuracy                           0.85       128\n",
      "     macro avg       0.82      0.68      0.71       128\n",
      "  weighted avg       0.84      0.85      0.83       128\n",
      "\n"
     ]
    },
    {
     "data": {
      "text/plain": [
       "['trained_model_RFO2.pkl']"
      ]
     },
     "execution_count": 1,
     "metadata": {},
     "output_type": "execute_result"
    }
   ],
   "source": [
    "\n",
    "from sklearn.ensemble import RandomForestClassifier\n",
    "from sklearn.model_selection import train_test_split\n",
    "from sklearn.metrics import accuracy_score, confusion_matrix, classification_report\n",
    "from sklearn.preprocessing import StandardScaler\n",
    "import os\n",
    "import numpy as np\n",
    "from skimage import io, transform\n",
    "import joblib\n",
    "\n",
    "dataset_dir = 'C:/Users/HP/test/Desktop/logdata2'\n",
    "image_height = 256\n",
    "image_width = 256\n",
    "\n",
    "# Function to preprocess images\n",
    "def preprocess_image(image_path):\n",
    "    image = io.imread(image_path, as_gray=True)\n",
    "    image_resized = transform.resize(image, (image_height, image_width))\n",
    "    return image_resized.flatten()\n",
    "\n",
    "# Load and preprocess images from the dataset\n",
    "data = []\n",
    "labels = []\n",
    "\n",
    "for class_name in ['normal', 'osteoarthriticMI']:\n",
    "    class_dir = os.path.join(dataset_dir, class_name)\n",
    "    for image_name in os.listdir(class_dir):\n",
    "        image_path = os.path.join(class_dir, image_name)\n",
    "        features = preprocess_image(image_path)\n",
    "        data.append(features)\n",
    "        labels.append(1 if class_name == 'osteoarthriticMI' else 0)\n",
    "\n",
    "# Convert data and labels to NumPy arrays\n",
    "data = np.array(data)\n",
    "labels = np.array(labels)\n",
    "\n",
    "X = data\n",
    "y = labels\n",
    "\n",
    "X_train, X_test, y_train, y_test = train_test_split(X, y, test_size=0.2, random_state=42)\n",
    "\n",
    "scaler = StandardScaler()\n",
    "X_train_scaled = scaler.fit_transform(X_train)\n",
    "X_test_scaled = scaler.transform(X_test)\n",
    "\n",
    "# Initialize the Random Forest Classifier\n",
    "model = RandomForestClassifier(n_estimators=100, random_state=42)\n",
    "\n",
    "# Train the model\n",
    "model.fit(X_train_scaled, y_train)\n",
    "\n",
    "# Predict on the test set\n",
    "y_pred = model.predict(X_test_scaled)\n",
    "\n",
    "# Calculate accuracy\n",
    "accuracy = accuracy_score(y_test, y_pred)\n",
    "print(\"Accuracy:\", accuracy)\n",
    "\n",
    "# Print confusion matrix and classification report\n",
    "conf_matrix = confusion_matrix(y_test, y_pred)\n",
    "print(\"Confusion Matrix:\")\n",
    "print(conf_matrix)\n",
    "\n",
    "class_report = classification_report(y_test, y_pred, target_names=[\"Normal\", \"Osteoarthritic\"])\n",
    "print(\"Classification Report:\")\n",
    "print(class_report)\n",
    "\n",
    "# Save the trained model\n",
    "joblib.dump(model, 'trained_model_RFO2.pkl')"
   ]
  },
  {
   "cell_type": "code",
   "execution_count": null,
   "metadata": {},
   "outputs": [],
   "source": []
  }
 ],
 "metadata": {
  "kernelspec": {
   "display_name": "Python 3",
   "language": "python",
   "name": "python3"
  },
  "language_info": {
   "codemirror_mode": {
    "name": "ipython",
    "version": 3
   },
   "file_extension": ".py",
   "mimetype": "text/x-python",
   "name": "python",
   "nbconvert_exporter": "python",
   "pygments_lexer": "ipython3",
   "version": "3.8.3"
  }
 },
 "nbformat": 4,
 "nbformat_minor": 4
}
