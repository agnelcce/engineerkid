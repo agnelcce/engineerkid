{
 "cells": [
  {
   "cell_type": "code",
   "execution_count": 1,
   "metadata": {},
   "outputs": [],
   "source": [
    "import numpy as np\n",
    "import matplotlib.pyplot as plt\n",
    "import matplotlib.image as mpimg\n",
    "import pandas as pd"
   ]
  },
  {
   "cell_type": "code",
   "execution_count": 2,
   "metadata": {},
   "outputs": [],
   "source": [
    "dataset = pd.read_csv('hu.csv')"
   ]
  },
  {
   "cell_type": "code",
   "execution_count": 3,
   "metadata": {},
   "outputs": [
    {
     "data": {
      "text/html": [
       "<div>\n",
       "<style scoped>\n",
       "    .dataframe tbody tr th:only-of-type {\n",
       "        vertical-align: middle;\n",
       "    }\n",
       "\n",
       "    .dataframe tbody tr th {\n",
       "        vertical-align: top;\n",
       "    }\n",
       "\n",
       "    .dataframe thead th {\n",
       "        text-align: right;\n",
       "    }\n",
       "</style>\n",
       "<table border=\"1\" class=\"dataframe\">\n",
       "  <thead>\n",
       "    <tr style=\"text-align: right;\">\n",
       "      <th></th>\n",
       "      <th>Hu moment 1</th>\n",
       "      <th>Hu moment 2</th>\n",
       "      <th>Hu moment 3</th>\n",
       "      <th>Hu moment 4</th>\n",
       "      <th>Hu moment 5</th>\n",
       "      <th>Hu moment 6</th>\n",
       "      <th>Hu moment 7</th>\n",
       "      <th>Grade</th>\n",
       "    </tr>\n",
       "  </thead>\n",
       "  <tbody>\n",
       "    <tr>\n",
       "      <th>0</th>\n",
       "      <td>2.985695</td>\n",
       "      <td>6.954078</td>\n",
       "      <td>10.633049</td>\n",
       "      <td>11.902984</td>\n",
       "      <td>-23.180785</td>\n",
       "      <td>16.639311</td>\n",
       "      <td>-23.848990</td>\n",
       "      <td>0</td>\n",
       "    </tr>\n",
       "    <tr>\n",
       "      <th>1</th>\n",
       "      <td>2.977737</td>\n",
       "      <td>6.818544</td>\n",
       "      <td>10.983430</td>\n",
       "      <td>12.248659</td>\n",
       "      <td>-24.603627</td>\n",
       "      <td>16.928135</td>\n",
       "      <td>-23.872052</td>\n",
       "      <td>0</td>\n",
       "    </tr>\n",
       "    <tr>\n",
       "      <th>2</th>\n",
       "      <td>3.011518</td>\n",
       "      <td>7.472868</td>\n",
       "      <td>11.064236</td>\n",
       "      <td>12.090032</td>\n",
       "      <td>-23.670170</td>\n",
       "      <td>-15.995767</td>\n",
       "      <td>-24.598209</td>\n",
       "      <td>0</td>\n",
       "    </tr>\n",
       "    <tr>\n",
       "      <th>3</th>\n",
       "      <td>2.969257</td>\n",
       "      <td>6.814332</td>\n",
       "      <td>11.128081</td>\n",
       "      <td>12.467895</td>\n",
       "      <td>24.302647</td>\n",
       "      <td>-15.875281</td>\n",
       "      <td>24.669668</td>\n",
       "      <td>0</td>\n",
       "    </tr>\n",
       "    <tr>\n",
       "      <th>4</th>\n",
       "      <td>3.001156</td>\n",
       "      <td>7.093602</td>\n",
       "      <td>11.200217</td>\n",
       "      <td>11.694102</td>\n",
       "      <td>-23.453287</td>\n",
       "      <td>15.475848</td>\n",
       "      <td>23.200185</td>\n",
       "      <td>0</td>\n",
       "    </tr>\n",
       "  </tbody>\n",
       "</table>\n",
       "</div>"
      ],
      "text/plain": [
       "   Hu moment 1  Hu moment 2  Hu moment 3  Hu moment 4  Hu moment 5  \\\n",
       "0     2.985695     6.954078    10.633049    11.902984   -23.180785   \n",
       "1     2.977737     6.818544    10.983430    12.248659   -24.603627   \n",
       "2     3.011518     7.472868    11.064236    12.090032   -23.670170   \n",
       "3     2.969257     6.814332    11.128081    12.467895    24.302647   \n",
       "4     3.001156     7.093602    11.200217    11.694102   -23.453287   \n",
       "\n",
       "   Hu moment 6  Hu moment 7  Grade  \n",
       "0    16.639311   -23.848990      0  \n",
       "1    16.928135   -23.872052      0  \n",
       "2   -15.995767   -24.598209      0  \n",
       "3   -15.875281    24.669668      0  \n",
       "4    15.475848    23.200185      0  "
      ]
     },
     "execution_count": 3,
     "metadata": {},
     "output_type": "execute_result"
    }
   ],
   "source": [
    "dataset.head()"
   ]
  },
  {
   "cell_type": "code",
   "execution_count": 5,
   "metadata": {},
   "outputs": [],
   "source": [
    "X = dataset.iloc[:,:7].values\n",
    "y = dataset['Grade'].values"
   ]
  },
  {
   "cell_type": "code",
   "execution_count": 6,
   "metadata": {},
   "outputs": [],
   "source": [
    "from sklearn.model_selection import train_test_split\n",
    "X_train, X_test, y_train, y_test = train_test_split(X, y, test_size = 0.20, random_state = 82)"
   ]
  },
  {
   "cell_type": "code",
   "execution_count": 7,
   "metadata": {},
   "outputs": [],
   "source": [
    "from sklearn.preprocessing import StandardScaler\n",
    "sc = StandardScaler()\n",
    "X_train = sc.fit_transform(X_train)\n",
    "X_test = sc.transform(X_test)"
   ]
  },
  {
   "cell_type": "code",
   "execution_count": 9,
   "metadata": {},
   "outputs": [
    {
     "data": {
      "text/plain": [
       "GaussianNB()"
      ]
     },
     "execution_count": 9,
     "metadata": {},
     "output_type": "execute_result"
    }
   ],
   "source": [
    "from sklearn.naive_bayes import GaussianNB\n",
    "nvclassifier = GaussianNB()\n",
    "nvclassifier.fit(X_train, y_train)"
   ]
  },
  {
   "cell_type": "code",
   "execution_count": 10,
   "metadata": {},
   "outputs": [
    {
     "name": "stdout",
     "output_type": "stream",
     "text": [
      "[3 0 1 4 2 1 0 0 1 1 3 0 4 3 1 0 0 1 0 0 1 0 3 0 0 2 1 4 2 0 1 0 1 4 1 0 1\n",
      " 0 2 0 1 3 0 0 0 1 0 1 0 3 0 0 1 0 1 0 1 1 0 0 0 4 1 0 1 1 0 1]\n"
     ]
    }
   ],
   "source": [
    "# Predicting the Test set results\n",
    "y_pred = nvclassifier.predict(X_test)\n",
    "print(y_pred)"
   ]
  },
  {
   "cell_type": "code",
   "execution_count": 11,
   "metadata": {},
   "outputs": [
    {
     "data": {
      "text/plain": [
       "array([[0, 3],\n",
       "       [1, 0],\n",
       "       [2, 1],\n",
       "       [3, 4],\n",
       "       [0, 2]], dtype=int64)"
      ]
     },
     "execution_count": 11,
     "metadata": {},
     "output_type": "execute_result"
    }
   ],
   "source": [
    "#lets see the actual and predicted value side by side\n",
    "y_compare = np.vstack((y_test,y_pred)).T\n",
    "#actual value on the left side and predicted value on the right hand side\n",
    "#printing the top 5 values\n",
    "y_compare[:5,:]"
   ]
  },
  {
   "cell_type": "code",
   "execution_count": 12,
   "metadata": {},
   "outputs": [
    {
     "name": "stdout",
     "output_type": "stream",
     "text": [
      "[[11  2  1  2  0]\n",
      " [ 9 13  0  1  2]\n",
      " [ 1  3  1  1  0]\n",
      " [ 3  2  2  1  2]\n",
      " [ 6  3  0  1  1]]\n"
     ]
    }
   ],
   "source": [
    "from sklearn.metrics import confusion_matrix\n",
    "cm = confusion_matrix(y_test, y_pred)\n",
    "print(cm)"
   ]
  },
  {
   "cell_type": "code",
   "execution_count": 13,
   "metadata": {},
   "outputs": [
    {
     "name": "stdout",
     "output_type": "stream",
     "text": [
      "Correct predictions:  27\n",
      "False predictions 41\n",
      "\n",
      "\n",
      "Accuracy of the Naive Bayes Clasification is:  0.39705882352941174\n"
     ]
    }
   ],
   "source": [
    "#finding accuracy from the confusion matrix.\n",
    "a = cm.shape\n",
    "corrPred = 0\n",
    "falsePred = 0\n",
    "\n",
    "for row in range(a[0]):\n",
    "    for c in range(a[1]):\n",
    "        if row == c:\n",
    "            corrPred +=cm[row,c]\n",
    "        else:\n",
    "            falsePred += cm[row,c]\n",
    "print('Correct predictions: ', corrPred)\n",
    "print('False predictions', falsePred)\n",
    "print ('\\n\\nAccuracy of the Naive Bayes Clasification is: ', corrPred/(cm.sum()))  "
   ]
  },
  {
   "cell_type": "code",
   "execution_count": null,
   "metadata": {},
   "outputs": [],
   "source": []
  }
 ],
 "metadata": {
  "kernelspec": {
   "display_name": "Python 3",
   "language": "python",
   "name": "python3"
  },
  "language_info": {
   "codemirror_mode": {
    "name": "ipython",
    "version": 3
   },
   "file_extension": ".py",
   "mimetype": "text/x-python",
   "name": "python",
   "nbconvert_exporter": "python",
   "pygments_lexer": "ipython3",
   "version": "3.8.3"
  }
 },
 "nbformat": 4,
 "nbformat_minor": 4
}
