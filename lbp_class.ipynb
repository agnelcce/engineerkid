{
 "cells": [
  {
   "cell_type": "code",
   "execution_count": 2,
   "metadata": {},
   "outputs": [],
   "source": [
    "import numpy as np\n",
    "import matplotlib.pyplot as plt\n",
    "import matplotlib.image as mpimg\n",
    "import pandas as pd"
   ]
  },
  {
   "cell_type": "code",
   "execution_count": 3,
   "metadata": {},
   "outputs": [],
   "source": [
    "dataset = pd.read_csv('lbp.csv')"
   ]
  },
  {
   "cell_type": "code",
   "execution_count": 4,
   "metadata": {},
   "outputs": [
    {
     "data": {
      "text/html": [
       "<div>\n",
       "<style scoped>\n",
       "    .dataframe tbody tr th:only-of-type {\n",
       "        vertical-align: middle;\n",
       "    }\n",
       "\n",
       "    .dataframe tbody tr th {\n",
       "        vertical-align: top;\n",
       "    }\n",
       "\n",
       "    .dataframe thead th {\n",
       "        text-align: right;\n",
       "    }\n",
       "</style>\n",
       "<table border=\"1\" class=\"dataframe\">\n",
       "  <thead>\n",
       "    <tr style=\"text-align: right;\">\n",
       "      <th></th>\n",
       "      <th>LBP 0</th>\n",
       "      <th>LBP 1</th>\n",
       "      <th>LBP 2</th>\n",
       "      <th>LBP 3</th>\n",
       "      <th>LBP 4</th>\n",
       "      <th>LBP 5</th>\n",
       "      <th>LBP 6</th>\n",
       "      <th>LBP 7</th>\n",
       "      <th>LBP 8</th>\n",
       "      <th>LBP 9</th>\n",
       "      <th>...</th>\n",
       "      <th>LBP 17</th>\n",
       "      <th>LBP 18</th>\n",
       "      <th>LBP 19</th>\n",
       "      <th>LBP 20</th>\n",
       "      <th>LBP 21</th>\n",
       "      <th>LBP 22</th>\n",
       "      <th>LBP 23</th>\n",
       "      <th>LBP 24</th>\n",
       "      <th>LBP 25</th>\n",
       "      <th>Grade</th>\n",
       "    </tr>\n",
       "  </thead>\n",
       "  <tbody>\n",
       "    <tr>\n",
       "      <th>0</th>\n",
       "      <td>0.029444</td>\n",
       "      <td>0.016831</td>\n",
       "      <td>0.015288</td>\n",
       "      <td>0.012037</td>\n",
       "      <td>0.008601</td>\n",
       "      <td>0.008189</td>\n",
       "      <td>0.008663</td>\n",
       "      <td>0.011379</td>\n",
       "      <td>0.014218</td>\n",
       "      <td>0.018086</td>\n",
       "      <td>...</td>\n",
       "      <td>0.015329</td>\n",
       "      <td>0.009012</td>\n",
       "      <td>0.009012</td>\n",
       "      <td>0.010103</td>\n",
       "      <td>0.013128</td>\n",
       "      <td>0.017160</td>\n",
       "      <td>0.017263</td>\n",
       "      <td>0.083889</td>\n",
       "      <td>0.304959</td>\n",
       "      <td>0</td>\n",
       "    </tr>\n",
       "    <tr>\n",
       "      <th>1</th>\n",
       "      <td>0.035494</td>\n",
       "      <td>0.023971</td>\n",
       "      <td>0.017202</td>\n",
       "      <td>0.012243</td>\n",
       "      <td>0.009774</td>\n",
       "      <td>0.009177</td>\n",
       "      <td>0.010247</td>\n",
       "      <td>0.012140</td>\n",
       "      <td>0.015823</td>\n",
       "      <td>0.019979</td>\n",
       "      <td>...</td>\n",
       "      <td>0.011934</td>\n",
       "      <td>0.009115</td>\n",
       "      <td>0.009156</td>\n",
       "      <td>0.009650</td>\n",
       "      <td>0.012078</td>\n",
       "      <td>0.016914</td>\n",
       "      <td>0.018745</td>\n",
       "      <td>0.080700</td>\n",
       "      <td>0.372798</td>\n",
       "      <td>0</td>\n",
       "    </tr>\n",
       "    <tr>\n",
       "      <th>2</th>\n",
       "      <td>0.024074</td>\n",
       "      <td>0.013889</td>\n",
       "      <td>0.012984</td>\n",
       "      <td>0.010412</td>\n",
       "      <td>0.006770</td>\n",
       "      <td>0.006502</td>\n",
       "      <td>0.006975</td>\n",
       "      <td>0.009444</td>\n",
       "      <td>0.010597</td>\n",
       "      <td>0.012531</td>\n",
       "      <td>...</td>\n",
       "      <td>0.009362</td>\n",
       "      <td>0.006955</td>\n",
       "      <td>0.006132</td>\n",
       "      <td>0.007407</td>\n",
       "      <td>0.010391</td>\n",
       "      <td>0.012654</td>\n",
       "      <td>0.013930</td>\n",
       "      <td>0.232263</td>\n",
       "      <td>0.255782</td>\n",
       "      <td>0</td>\n",
       "    </tr>\n",
       "    <tr>\n",
       "      <th>3</th>\n",
       "      <td>0.037963</td>\n",
       "      <td>0.018745</td>\n",
       "      <td>0.019403</td>\n",
       "      <td>0.018477</td>\n",
       "      <td>0.013724</td>\n",
       "      <td>0.011337</td>\n",
       "      <td>0.010494</td>\n",
       "      <td>0.012263</td>\n",
       "      <td>0.014568</td>\n",
       "      <td>0.019527</td>\n",
       "      <td>...</td>\n",
       "      <td>0.013519</td>\n",
       "      <td>0.011049</td>\n",
       "      <td>0.012202</td>\n",
       "      <td>0.014095</td>\n",
       "      <td>0.018498</td>\n",
       "      <td>0.021543</td>\n",
       "      <td>0.016317</td>\n",
       "      <td>0.051255</td>\n",
       "      <td>0.334342</td>\n",
       "      <td>0</td>\n",
       "    </tr>\n",
       "    <tr>\n",
       "      <th>4</th>\n",
       "      <td>0.025185</td>\n",
       "      <td>0.015432</td>\n",
       "      <td>0.015123</td>\n",
       "      <td>0.013045</td>\n",
       "      <td>0.008663</td>\n",
       "      <td>0.008621</td>\n",
       "      <td>0.007901</td>\n",
       "      <td>0.011708</td>\n",
       "      <td>0.012819</td>\n",
       "      <td>0.016934</td>\n",
       "      <td>...</td>\n",
       "      <td>0.019280</td>\n",
       "      <td>0.008827</td>\n",
       "      <td>0.009280</td>\n",
       "      <td>0.008663</td>\n",
       "      <td>0.013086</td>\n",
       "      <td>0.014691</td>\n",
       "      <td>0.015288</td>\n",
       "      <td>0.070329</td>\n",
       "      <td>0.287016</td>\n",
       "      <td>0</td>\n",
       "    </tr>\n",
       "  </tbody>\n",
       "</table>\n",
       "<p>5 rows × 27 columns</p>\n",
       "</div>"
      ],
      "text/plain": [
       "      LBP 0     LBP 1     LBP 2     LBP 3     LBP 4     LBP 5     LBP 6  \\\n",
       "0  0.029444  0.016831  0.015288  0.012037  0.008601  0.008189  0.008663   \n",
       "1  0.035494  0.023971  0.017202  0.012243  0.009774  0.009177  0.010247   \n",
       "2  0.024074  0.013889  0.012984  0.010412  0.006770  0.006502  0.006975   \n",
       "3  0.037963  0.018745  0.019403  0.018477  0.013724  0.011337  0.010494   \n",
       "4  0.025185  0.015432  0.015123  0.013045  0.008663  0.008621  0.007901   \n",
       "\n",
       "      LBP 7     LBP 8     LBP 9  ...    LBP 17    LBP 18    LBP 19    LBP 20  \\\n",
       "0  0.011379  0.014218  0.018086  ...  0.015329  0.009012  0.009012  0.010103   \n",
       "1  0.012140  0.015823  0.019979  ...  0.011934  0.009115  0.009156  0.009650   \n",
       "2  0.009444  0.010597  0.012531  ...  0.009362  0.006955  0.006132  0.007407   \n",
       "3  0.012263  0.014568  0.019527  ...  0.013519  0.011049  0.012202  0.014095   \n",
       "4  0.011708  0.012819  0.016934  ...  0.019280  0.008827  0.009280  0.008663   \n",
       "\n",
       "     LBP 21    LBP 22    LBP 23    LBP 24    LBP 25  Grade  \n",
       "0  0.013128  0.017160  0.017263  0.083889  0.304959      0  \n",
       "1  0.012078  0.016914  0.018745  0.080700  0.372798      0  \n",
       "2  0.010391  0.012654  0.013930  0.232263  0.255782      0  \n",
       "3  0.018498  0.021543  0.016317  0.051255  0.334342      0  \n",
       "4  0.013086  0.014691  0.015288  0.070329  0.287016      0  \n",
       "\n",
       "[5 rows x 27 columns]"
      ]
     },
     "execution_count": 4,
     "metadata": {},
     "output_type": "execute_result"
    }
   ],
   "source": [
    "dataset.head()"
   ]
  },
  {
   "cell_type": "code",
   "execution_count": 5,
   "metadata": {},
   "outputs": [],
   "source": [
    "X = dataset.iloc[:,:25].values\n",
    "y = dataset['Grade'].values"
   ]
  },
  {
   "cell_type": "code",
   "execution_count": 6,
   "metadata": {},
   "outputs": [],
   "source": [
    "from sklearn.model_selection import train_test_split\n",
    "X_train, X_test, y_train, y_test = train_test_split(X, y, test_size = 0.20, random_state = 82)"
   ]
  },
  {
   "cell_type": "code",
   "execution_count": 7,
   "metadata": {},
   "outputs": [],
   "source": [
    "from sklearn.preprocessing import StandardScaler\n",
    "sc = StandardScaler()\n",
    "X_train = sc.fit_transform(X_train)\n",
    "X_test = sc.transform(X_test)"
   ]
  },
  {
   "cell_type": "code",
   "execution_count": 8,
   "metadata": {},
   "outputs": [
    {
     "data": {
      "text/plain": [
       "GaussianNB()"
      ]
     },
     "execution_count": 8,
     "metadata": {},
     "output_type": "execute_result"
    }
   ],
   "source": [
    "from sklearn.naive_bayes import GaussianNB\n",
    "nvclassifier = GaussianNB()\n",
    "nvclassifier.fit(X_train, y_train)"
   ]
  },
  {
   "cell_type": "code",
   "execution_count": 9,
   "metadata": {},
   "outputs": [
    {
     "name": "stdout",
     "output_type": "stream",
     "text": [
      "[0 0 1 2 3 4 2 0 1 1 0 0 2 0 0 0 2 1 2 0 1 1 2 2 0 2 1 4 2 2 1 0 1 4 1 1 1\n",
      " 2 2 1 0 3 2 0 1 4 2 1 1 2 0 0 1 2 1 0 1 4 2 0 1 2 0 1 1 2 1 1]\n"
     ]
    }
   ],
   "source": [
    "# Predicting the Test set results\n",
    "y_pred = nvclassifier.predict(X_test)\n",
    "print(y_pred)"
   ]
  },
  {
   "cell_type": "code",
   "execution_count": 10,
   "metadata": {},
   "outputs": [
    {
     "data": {
      "text/plain": [
       "array([[0, 0],\n",
       "       [1, 0],\n",
       "       [2, 1],\n",
       "       [3, 2],\n",
       "       [0, 3]], dtype=int64)"
      ]
     },
     "execution_count": 10,
     "metadata": {},
     "output_type": "execute_result"
    }
   ],
   "source": [
    "#lets see the actual and predicted value side by side\n",
    "y_compare = np.vstack((y_test,y_pred)).T\n",
    "#actual value on the left side and predicted value on the right hand side\n",
    "#printing the top 5 values\n",
    "y_compare[:5,:]"
   ]
  },
  {
   "cell_type": "code",
   "execution_count": 11,
   "metadata": {},
   "outputs": [
    {
     "name": "stdout",
     "output_type": "stream",
     "text": [
      "[[ 8  2  5  1  0]\n",
      " [ 3 18  2  0  2]\n",
      " [ 0  3  2  1  0]\n",
      " [ 3  0  5  0  2]\n",
      " [ 4  1  5  0  1]]\n"
     ]
    }
   ],
   "source": [
    "from sklearn.metrics import confusion_matrix\n",
    "cm = confusion_matrix(y_test, y_pred)\n",
    "print(cm)"
   ]
  },
  {
   "cell_type": "code",
   "execution_count": 12,
   "metadata": {},
   "outputs": [
    {
     "name": "stdout",
     "output_type": "stream",
     "text": [
      "Correct predictions:  29\n",
      "False predictions 39\n",
      "\n",
      "\n",
      "Accuracy of the Naive Bayes Clasification is:  0.4264705882352941\n"
     ]
    }
   ],
   "source": [
    "#finding accuracy from the confusion matrix.\n",
    "a = cm.shape\n",
    "corrPred = 0\n",
    "falsePred = 0\n",
    "\n",
    "for row in range(a[0]):\n",
    "    for c in range(a[1]):\n",
    "        if row == c:\n",
    "            corrPred +=cm[row,c]\n",
    "        else:\n",
    "            falsePred += cm[row,c]\n",
    "print('Correct predictions: ', corrPred)\n",
    "print('False predictions', falsePred)\n",
    "print ('\\n\\nAccuracy of the Naive Bayes Clasification is: ', corrPred/(cm.sum()))  "
   ]
  },
  {
   "cell_type": "code",
   "execution_count": null,
   "metadata": {},
   "outputs": [],
   "source": []
  }
 ],
 "metadata": {
  "kernelspec": {
   "display_name": "Python 3",
   "language": "python",
   "name": "python3"
  },
  "language_info": {
   "codemirror_mode": {
    "name": "ipython",
    "version": 3
   },
   "file_extension": ".py",
   "mimetype": "text/x-python",
   "name": "python",
   "nbconvert_exporter": "python",
   "pygments_lexer": "ipython3",
   "version": "3.8.3"
  }
 },
 "nbformat": 4,
 "nbformat_minor": 4
}
