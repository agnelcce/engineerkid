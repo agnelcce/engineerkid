{
 "cells": [
  {
   "cell_type": "code",
   "execution_count": 7,
   "metadata": {},
   "outputs": [],
   "source": [
    "import cv2\n",
    "import numpy as np"
   ]
  },
  {
   "cell_type": "code",
   "execution_count": 8,
   "metadata": {},
   "outputs": [],
   "source": [
    "# Load the image\n",
    "image = cv2.imread('twoll.jpg')\n",
    "\n",
    "# Convert the image to grayscale\n",
    "gray = cv2.cvtColor(image, cv2.COLOR_BGR2GRAY)\n"
   ]
  },
  {
   "cell_type": "code",
   "execution_count": 9,
   "metadata": {},
   "outputs": [],
   "source": [
    "# Apply Canny edge detection to identify edges\n",
    "edges = cv2.Canny(gray, 50, 150)"
   ]
  },
  {
   "cell_type": "code",
   "execution_count": 10,
   "metadata": {},
   "outputs": [],
   "source": [
    "# Find lines using Hough Line Transform\n",
    "lines = cv2.HoughLinesP(edges, 1, np.pi/180, threshold=100, minLineLength=100, maxLineGap=10)"
   ]
  },
  {
   "cell_type": "code",
   "execution_count": 11,
   "metadata": {},
   "outputs": [
    {
     "name": "stdout",
     "output_type": "stream",
     "text": [
      "Distance between the lines: 5.385164807134504\n"
     ]
    }
   ],
   "source": [
    "# Ensure lines were detected\n",
    "if lines is not None:\n",
    "    # Calculate distance between lines\n",
    "    if len(lines) >= 2:\n",
    "        line1 = lines[0][0]\n",
    "        line2 = lines[1][0]\n",
    "        \n",
    "        # Get the coordinates of the lines\n",
    "        x1, y1, x2, y2 = line1\n",
    "        x3, y3, x4, y4 = line2\n",
    "        \n",
    "        # Calculate the distance using Euclidean distance formula\n",
    "        distance = np.sqrt((x1 - x3)**2 + (y1 - y3)**2)\n",
    "        \n",
    "        # Print the distance\n",
    "        print(\"Distance between the lines:\", distance)\n",
    "    else:\n",
    "        print(\"Insufficient lines detected.\")\n",
    "else:\n",
    "    print(\"No lines detected in the image.\")"
   ]
  },
  {
   "cell_type": "code",
   "execution_count": 12,
   "metadata": {},
   "outputs": [
    {
     "name": "stdout",
     "output_type": "stream",
     "text": [
      "89 402\n",
      "603 402\n"
     ]
    }
   ],
   "source": [
    "print(x1,y1)\n",
    "print(x2,y2)"
   ]
  },
  {
   "cell_type": "code",
   "execution_count": 14,
   "metadata": {},
   "outputs": [
    {
     "data": {
      "text/plain": [
       "(612, 722)"
      ]
     },
     "execution_count": 14,
     "metadata": {},
     "output_type": "execute_result"
    }
   ],
   "source": [
    "gray.shape"
   ]
  },
  {
   "cell_type": "code",
   "execution_count": 15,
   "metadata": {},
   "outputs": [
    {
     "data": {
      "image/png": "[encoded data removed]",
      "text/plain": [
       "<Figure size 432x288 with 1 Axes>"
      ]
     },
     "metadata": {
      "needs_background": "light"
     },
     "output_type": "display_data"
    }
   ],
   "source": [
    "import matplotlib.pyplot as plt\n",
    "import matplotlib.image as mpimg\n",
    "\n",
    "plt.imshow(image)\n",
    "plt.axis('off')  # Optional: Turn off axis\n",
    "plt.show()"
   ]
  },
  {
   "cell_type": "code",
   "execution_count": null,
   "metadata": {},
   "outputs": [],
   "source": [
    "import cv2\n",
    "import math\n",
    "\n",
    "# Global variables\n",
    "clicked_points = []\n",
    "distance = 0\n",
    "\n",
    "def click_event(event, x, y, flags, param):\n",
    "    global clicked_points, distance\n",
    "\n",
    "    # Left button click event\n",
    "    if event == cv2.EVENT_LBUTTONDOWN:\n",
    "        clicked_points.append((x, y))\n",
    "\n",
    "        # Calculate distance if two points have been selected\n",
    "        if len(clicked_points) == 2:\n",
    "            distance = math.sqrt((clicked_points[0][0] - clicked_points[1][0]) ** 2 + (clicked_points[0][1] - clicked_points[1][1]) ** 2)\n",
    "            print(\"Distance between the lines:\", distance)\n",
    "\n",
    "            # Reset clicked points for next measurement\n",
    "            clicked_points = []\n",
    "\n",
    "# Load the image\n",
    "image = cv2.imread('twoll.jpg')\n",
    "\n",
    "# Create a window and bind the click event function\n",
    "cv2.namedWindow('Image')\n",
    "cv2.setMouseCallback('Image', click_event)\n",
    "\n",
    "while True:\n",
    "    # Display the image\n",
    "    cv2.imshow('Image', image)\n",
    "\n",
    "    # Wait for key press\n",
    "    key = cv2.waitKey(1) & 0xFF\n",
    "\n",
    "    # Exit if 'q' is pressed\n",
    "    if key == ord('q'):\n",
    "        break\n",
    "\n",
    "# Release resources and close the windows\n",
    "cv2.destroyAllWindows()"
   ]
  },
  {
   "cell_type": "code",
   "execution_count": null,
   "metadata": {},
   "outputs": [],
   "source": []
  }
 ],
 "metadata": {
  "kernelspec": {
   "display_name": "Python 3",
   "language": "python",
   "name": "python3"
  },
  "language_info": {
   "codemirror_mode": {
    "name": "ipython",
    "version": 3
   },
   "file_extension": ".py",
   "mimetype": "text/x-python",
   "name": "python",
   "nbconvert_exporter": "python",
   "pygments_lexer": "ipython3",
   "version": "3.8.3"
  }
 },
 "nbformat": 4,
 "nbformat_minor": 4
}
