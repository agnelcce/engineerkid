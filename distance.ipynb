{
 "cells": [
  {
   "cell_type": "code",
   "execution_count": 5,
   "metadata": {},
   "outputs": [],
   "source": [
    "import cv2\n",
    "import numpy as np\n",
    "\n",
    "def measure_distance(image_path, point1, point2, pixel_per_mm):\n",
    "    # Load the X-ray image\n",
    "    image =cv2.imread(image_path)\n",
    "\n",
    "    # Convert the image to grayscale\n",
    "    gray = cv2.cvtColor(image, cv2.COLOR_BGR2GRAY)\n",
    "\n",
    "    # Calculate the distance in pixels\n",
    "    distance_pixels = np.linalg.norm(np.array(point1) - np.array(point2))#Euclidean distance\n",
    "    #distance_pixels = np.sum(np.abs(np.array(point1) - np.array(point2)))#Manhattan \n",
    "    #distance_pixels = np.max(np.abs(np.array(point1) - np.array(point2)))#chebyshev\n",
    "    #p = 2  # Specify the degree of the Minkowski distance\n",
    "    #distance_pixels = np.power(np.sum(np.power(np.abs(np.array(point1) - np.array(point2)), p)), 1/p)\n",
    "    #point1_binary = np.array(point1, dtype=np.uint8)\n",
    "    #point2_binary = np.array(point2, dtype=np.uint8)\n",
    "    #distance_pixels = np.count_nonzero(point1_binary != point2_binary)\n",
    "    print(distance_pixels)\n",
    "\n",
    "    # Calculate the distance in millimeters\n",
    "    distance_mm = distance_pixels / pixel_per_mm\n",
    "\n",
    "    return distance_mm"
   ]
  },
  {
   "cell_type": "code",
   "execution_count": 1,
   "metadata": {},
   "outputs": [
    {
     "ename": "NameError",
     "evalue": "name 'measure_distance' is not defined",
     "output_type": "error",
     "traceback": [
      "\u001b[1;31m---------------------------------------------------------------------------\u001b[0m",
      "\u001b[1;31mNameError\u001b[0m                                 Traceback (most recent call last)",
      "\u001b[1;32m<ipython-input-1-ff45c999d131>\u001b[0m in \u001b[0;36m<module>\u001b[1;34m\u001b[0m\n\u001b[0;32m      6\u001b[0m \u001b[1;33m\u001b[0m\u001b[0m\n\u001b[0;32m      7\u001b[0m \u001b[1;31m# Measure the distance\u001b[0m\u001b[1;33m\u001b[0m\u001b[1;33m\u001b[0m\u001b[1;33m\u001b[0m\u001b[0m\n\u001b[1;32m----> 8\u001b[1;33m \u001b[0mdistance\u001b[0m \u001b[1;33m=\u001b[0m \u001b[0mmeasure_distance\u001b[0m\u001b[1;33m(\u001b[0m\u001b[0mimage_path\u001b[0m\u001b[1;33m,\u001b[0m \u001b[0mpoint1\u001b[0m\u001b[1;33m,\u001b[0m \u001b[0mpoint2\u001b[0m\u001b[1;33m,\u001b[0m \u001b[0mpixel_per_mm\u001b[0m\u001b[1;33m)\u001b[0m\u001b[1;33m\u001b[0m\u001b[1;33m\u001b[0m\u001b[0m\n\u001b[0m\u001b[0;32m      9\u001b[0m \u001b[1;33m\u001b[0m\u001b[0m\n\u001b[0;32m     10\u001b[0m \u001b[1;31m# Print the result\u001b[0m\u001b[1;33m\u001b[0m\u001b[1;33m\u001b[0m\u001b[1;33m\u001b[0m\u001b[0m\n",
      "\u001b[1;31mNameError\u001b[0m: name 'measure_distance' is not defined"
     ]
    }
   ],
   "source": [
    "image_path = \"C:\\\\Users\\\\HP\\\\data\\\\Normal\\\\histeq_00.png\"\n",
    "point1 = (175, 167)  # (x, y) coordinates of the first point\n",
    "point2 = (175, 187)  # (x, y) coordinates of the second point\n",
    "pixel_per_mm = 3.7807\n",
    "# Example conversion factor (adjust according to your image)\n",
    "\n",
    "# Measure the distance\n",
    "distance = measure_distance(image_path, point1, point2, pixel_per_mm)\n",
    "\n",
    "# Print the result\n",
    "print(\"Distance between the points: {:.2f} mm\".format(distance))\n",
    "\n",
    "import matplotlib.pyplot as plt\n",
    "import matplotlib.image as mpimg\n",
    "# Read the image using matplotlib\n",
    "image = mpimg.imread(image_path)\n",
    "\n",
    "# Display the image\n",
    "plt.imshow(image)\n",
    "plt.axis('off')  # Optional: turn off axis ticks and labels\n",
    "plt.show()"
   ]
  },
  {
   "cell_type": "code",
   "execution_count": null,
   "metadata": {},
   "outputs": [],
   "source": [
    "import cv2\n",
    "import numpy as np\n",
    "import matplotlib.pyplot as plt\n",
    "import matplotlib.image as mpimg\n",
    "\n",
    "# Load the X-ray image\n",
    "image = cv2.imread(\"C:/Users/HP/dataset_train/test_template/1/histeq_00.png\", cv2.IMREAD_GRAYSCALE)\n"
   ]
  },
  {
   "cell_type": "code",
   "execution_count": null,
   "metadata": {},
   "outputs": [],
   "source": [
    "# Apply thresholding to segment the bones\n",
    "_, thresholded = cv2.threshold(image, 0,255, cv2.THRESH_BINARY + cv2.THRESH_OTSU)"
   ]
  },
  {
   "cell_type": "code",
   "execution_count": null,
   "metadata": {},
   "outputs": [],
   "source": [
    "# Find contours in the thresholded image\n",
    "contours, _ = cv2.findContours(thresholded, cv2.RETR_EXTERNAL, cv2.CHAIN_APPROX_SIMPLE)\n"
   ]
  },
  {
   "cell_type": "code",
   "execution_count": null,
   "metadata": {},
   "outputs": [],
   "source": [
    "# Sort the contours by area (largest first)\n",
    "contours = sorted(contours, key=cv2.contourArea, reverse=True)"
   ]
  },
  {
   "cell_type": "code",
   "execution_count": null,
   "metadata": {},
   "outputs": [],
   "source": [
    "# Create a blank image for drawing the contour\n",
    "contour_image = np.zeros_like(image, dtype=np.uint8)"
   ]
  },
  {
   "cell_type": "code",
   "execution_count": null,
   "metadata": {},
   "outputs": [],
   "source": [
    "# Draw the largest contour (assumed to be the bone contour)\n",
    "cv2.drawContours(contour_image, [contours[0]], -1, 255, thickness=1)"
   ]
  },
  {
   "cell_type": "code",
   "execution_count": null,
   "metadata": {
    "scrolled": true
   },
   "outputs": [],
   "source": [
    "# Display the contour image\n",
    "cv2.imshow(\"Bone Contour\", contour_image)\n",
    "plt.imshow(contour_image)\n",
    "plt.axis('off')  # Optional: turn off axis ticks and labels\n",
    "plt.show()\n",
    "\n",
    "cv2.waitKey(0)\n",
    "cv2.destroyAllWindows()"
   ]
  },
  {
   "cell_type": "code",
   "execution_count": null,
   "metadata": {},
   "outputs": [],
   "source": []
  },
  {
   "cell_type": "code",
   "execution_count": null,
   "metadata": {},
   "outputs": [],
   "source": []
  },
  {
   "cell_type": "code",
   "execution_count": null,
   "metadata": {},
   "outputs": [],
   "source": []
  }
 ],
 "metadata": {
  "kernelspec": {
   "display_name": "Python 3",
   "language": "python",
   "name": "python3"
  },
  "language_info": {
   "codemirror_mode": {
    "name": "ipython",
    "version": 3
   },
   "file_extension": ".py",
   "mimetype": "text/x-python",
   "name": "python",
   "nbconvert_exporter": "python",
   "pygments_lexer": "ipython3",
   "version": "3.8.3"
  }
 },
 "nbformat": 4,
 "nbformat_minor": 4
}
