{
 "cells": [
  {
   "cell_type": "code",
   "execution_count": null,
   "metadata": {},
   "outputs": [],
   "source": [
    "import cv2\n",
    "import glob\n",
    "from skimage.filters import gaussian\n",
    "from skimage import img_as_ubyte\n",
    "import numpy as np \n",
    "import os \n",
    "\n",
    "images_list = []\n",
    "size = 256\n",
    "path = \"dataset/normal/*.*\"\n",
    "\n",
    "for file in glob.glob(path):\n",
    "    print(file)\n",
    "    img=cv2.imread(file, 0)\n",
    "    img=cv2.resize(img,(size,size))\n",
    "    images_list.append(img)\n",
    "\n",
    "images_list=np.array(images_list)\n",
    "\n",
    "img_number=0\n",
    "for image in range(images_list.shape[0]):\n",
    "                   input_img=images_list[image,:,:]\n",
    "                   smoothened_image=img_as_ubyte(gaussian(input_img,sigma=2,mode='constant',cval=0.0))\n",
    "                   cv2.imwrite(\"dataset/smooth/sm_im\"+str(img_number)+\".png\",smoothened_image)\n",
    "                   img_number+=1\n",
    "\n"
   ]
  },
  {
   "cell_type": "code",
   "execution_count": null,
   "metadata": {},
   "outputs": [],
   "source": []
  },
  {
   "cell_type": "code",
   "execution_count": null,
   "metadata": {},
   "outputs": [],
   "source": []
  }
 ],
 "metadata": {
  "kernelspec": {
   "display_name": "Python 3",
   "language": "python",
   "name": "python3"
  },
  "language_info": {
   "codemirror_mode": {
    "name": "ipython",
    "version": 3
   },
   "file_extension": ".py",
   "mimetype": "text/x-python",
   "name": "python",
   "nbconvert_exporter": "python",
   "pygments_lexer": "ipython3",
   "version": "3.8.3"
  }
 },
 "nbformat": 4,
 "nbformat_minor": 4
}
